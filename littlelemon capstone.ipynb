{
 "cells": [
  {
   "cell_type": "code",
   "execution_count": 1,
   "id": "a4baf271-9afa-4212-86eb-919627b2a304",
   "metadata": {},
   "outputs": [
    {
     "name": "stdout",
     "output_type": "stream",
     "text": [
      "Requirement already satisfied: mysql-connector-python in c:\\users\\faith\\appdata\\local\\programs\\python\\python313\\lib\\site-packages (9.1.0)\n",
      "Connection between MySQL and Python is established.\n",
      "\n",
      "Cursor is created to communicate with the MySQL using Python.\n",
      "\n",
      "The database little_lemon is set for use.\n",
      "\n"
     ]
    }
   ],
   "source": [
    "#install connector api using the command below.\n",
    "!pip install mysql-connector-python\n",
    "\n",
    "# Import the MySQL Connector/Python\n",
    "import mysql.connector as connector\n",
    "\n",
    "# Establish connection between Python and MySQL database via connector API\n",
    "connection=connector.connect(\n",
    "                             user=\"root\", # use your own\n",
    "                             password=\"123456Cn\", # use your own\n",
    "                             database = \"little_lemon\"\n",
    "                            )\n",
    "print(\"Connection between MySQL and Python is established.\\n\")\n",
    "\n",
    "# Create cursor object to communicate with entire MySQL database\n",
    "cursor = connection.cursor()\n",
    "print(\"Cursor is created to communicate with the MySQL using Python.\\n\")\n",
    "    \n",
    "# Set little_lemon database for use \n",
    "cursor.execute(\"USE little_lemon\")\n",
    "print(\"The database little_lemon is set for use.\\n\")\n"
   ]
  },
  {
   "cell_type": "code",
   "execution_count": 2,
   "id": "da869b91-0c8e-42b3-983b-274b2424745d",
   "metadata": {},
   "outputs": [
    {
     "name": "stdout",
     "output_type": "stream",
     "text": [
      "('Tables_in_little_lemon',)\n",
      "('bookings',)\n",
      "('customers',)\n",
      "('menuitems',)\n",
      "('menus',)\n",
      "('orders',)\n"
     ]
    }
   ],
   "source": [
    "show_table_query= \"SHOW TABLES\"\n",
    "cursor.execute(show_table_query)\n",
    "# Fetch records \n",
    "results = cursor.fetchall()\n",
    "\n",
    "# Retrieve column names\n",
    "columns = cursor.column_names\n",
    "\n",
    "# Print column names\n",
    "print(columns)\n",
    "\n",
    "# Print query results\n",
    "for result in results:\n",
    "    print(result)"
   ]
  },
  {
   "cell_type": "code",
   "execution_count": 9,
   "id": "eb4d8e75-e5b8-4adf-8492-87eb92bddf74",
   "metadata": {},
   "outputs": [
    {
     "name": "stdout",
     "output_type": "stream",
     "text": [
      "('OrderID', 'TableNo', 'MenuID', 'BookingID', 'BillAmount', 'Quantity')\n"
     ]
    }
   ],
   "source": [
    "all_orders = \"\"\"SELECT * FROM Orders;\"\"\"\n",
    "\n",
    "# Execute query \n",
    "cursor.execute(all_orders)\n",
    "results= cursor.fetchall()\n",
    "# Retrieve column names\n",
    "columns = cursor.column_names\n",
    "\n",
    "# Print column names\n",
    "print(columns)\n",
    "for result in results:\n",
    "    print(result)"
   ]
  },
  {
   "cell_type": "code",
   "execution_count": 20,
   "id": "9fa8be06-1566-4f53-ac5d-4d4d846c15e2",
   "metadata": {},
   "outputs": [],
   "source": [
    "drop_table_query = \"DROP TABLE IF EXISTS Orders;\"\n",
    "cursor.execute(drop_table_query)\n",
    "connection.commit()"
   ]
  },
  {
   "cell_type": "code",
   "execution_count": 26,
   "id": "000da163-8599-477d-8fee-5e7c82420f9e",
   "metadata": {},
   "outputs": [
    {
     "name": "stdout",
     "output_type": "stream",
     "text": [
      "Orders table is created.\n",
      "\n"
     ]
    }
   ],
   "source": [
    "create_orders_table=\"\"\"\n",
    "CREATE TABLE Orders (\n",
    "OrderID INT,\n",
    "TableNo INT,\n",
    "MenuID INT,\n",
    "CustomerID INT,\n",
    "TotalCost INT,\n",
    "Quantity INT,\n",
    "PRIMARY KEY (OrderID)\n",
    ");\"\"\"\n",
    "\n",
    "# Create Customers table\n",
    "cursor.execute(create_orders_table)\n",
    "print(\"Orders table is created.\\n\")"
   ]
  },
  {
   "cell_type": "code",
   "execution_count": 27,
   "id": "23ee4fec-acd6-4697-99ca-11e86f44c5c5",
   "metadata": {},
   "outputs": [],
   "source": [
    "insert_orders=\"\"\"\n",
    "INSERT INTO Orders (OrderID, TableNo, MenuID, CustomerID, Quantity, TotalCost)\n",
    "VALUES\n",
    "(1, 12, 1, 1, 2, 86),\n",
    "(2, 19, 2, 2, 1, 37),\n",
    "(3, 15, 2, 3, 1, 37),\n",
    "(4, 5, 3, 4, 1, 40),\n",
    "(5, 8, 1, 5, 1, 43); \"\"\"\n",
    "\n",
    "cursor.execute(insert_orders)\n",
    "connection.commit()"
   ]
  },
  {
   "cell_type": "code",
   "execution_count": 28,
   "id": "832462d4-5da0-4cc1-9932-3a1da75194ba",
   "metadata": {},
   "outputs": [
    {
     "name": "stdout",
     "output_type": "stream",
     "text": [
      "Column Names: ('OrderID', 'TableNo', 'MenuID', 'CustomerID', 'TotalCost', 'Quantity')\n",
      "Orders Table Rows:\n",
      "(1, 12, 1, 1, 86, 2)\n",
      "(2, 19, 2, 2, 37, 1)\n",
      "(3, 15, 2, 3, 37, 1)\n",
      "(4, 5, 3, 4, 40, 1)\n",
      "(5, 8, 1, 5, 43, 1)\n"
     ]
    }
   ],
   "source": [
    "all_orders = \"\"\"SELECT * FROM Orders;\"\"\"\n",
    "cursor.execute(all_orders)\n",
    "# Fetch all rows\n",
    "results = cursor.fetchall()\n",
    "# Retrieve column names\n",
    "columns = cursor.column_names\n",
    "# Print column names\n",
    "print(\"Column Names:\", columns)\n",
    "# Print each row in the Orders table\n",
    "print(\"Orders Table Rows:\")\n",
    "for result in results:\n",
    "    print(result)"
   ]
  },
  {
   "cell_type": "code",
   "execution_count": 29,
   "id": "a9327f3a-3228-43d0-8dd8-005df5a8da15",
   "metadata": {},
   "outputs": [],
   "source": [
    "drop_table_query = \"DROP TABLE IF EXISTS customers;\"\n",
    "cursor.execute(drop_table_query)\n",
    "connection.commit()"
   ]
  },
  {
   "cell_type": "code",
   "execution_count": 30,
   "id": "bc9a8000-f309-43ff-879e-2b724829adf9",
   "metadata": {},
   "outputs": [
    {
     "name": "stdout",
     "output_type": "stream",
     "text": [
      "Customers table is created.\n",
      "\n"
     ]
    }
   ],
   "source": [
    "create_customers_table=\"\"\"\n",
    "CREATE TABLE Customers (\n",
    "CustomerID INT,\n",
    "FullName varchar(255),\n",
    "ContactNumber varchar(50),\n",
    "PRIMARY KEY (CustomerID)\n",
    ");\"\"\"\n",
    "\n",
    "# Create Customers table\n",
    "cursor.execute(create_customers_table)\n",
    "print(\"Customers table is created.\\n\")"
   ]
  },
  {
   "cell_type": "code",
   "execution_count": 31,
   "id": "60599fbd-7def-4ff4-889e-870190e4c77d",
   "metadata": {},
   "outputs": [],
   "source": [
    "insert_customers=\"\"\"\n",
    "INSERT INTO customers (CustomerID, FullName, ContactNumber)\n",
    "VALUES\n",
    "(1, 'Laney Fadden', 124567890),                         \n",
    "(2, 'Giacopo Bramich', 234568901),\n",
    "(3, 'Lia Bonar', 345689012),\n",
    "(4, 'Merrill Baudon', 456789123),\n",
    "(5, 'Tasia Fautly', 567801234);\"\"\"\n",
    "\n",
    "cursor.execute(insert_customers)\n",
    "connection.commit()\n"
   ]
  },
  {
   "cell_type": "code",
   "execution_count": 32,
   "id": "4fd9b05a-ad99-4a67-8397-643e6389aa5f",
   "metadata": {},
   "outputs": [
    {
     "name": "stdout",
     "output_type": "stream",
     "text": [
      "(1, 'Laney Fadden', '124567890')\n",
      "(2, 'Giacopo Bramich', '234568901')\n",
      "(3, 'Lia Bonar', '345689012')\n",
      "(4, 'Merrill Baudon', '456789123')\n",
      "(5, 'Tasia Fautly', '567801234')\n"
     ]
    }
   ],
   "source": [
    "query= \"\"\" \n",
    "SELECT * FROM Customers;\"\"\"\n",
    "cursor.execute(query)\n",
    "# Fetch results\n",
    "results = cursor.fetchall()\n",
    "\n",
    "# Display results\n",
    "for row in results:\n",
    "    print(row)"
   ]
  },
  {
   "cell_type": "code",
   "execution_count": 33,
   "id": "57022c52-3db6-476e-ae41-19e292e204ce",
   "metadata": {},
   "outputs": [
    {
     "name": "stdout",
     "output_type": "stream",
     "text": [
      "('Laney Fadden', '124567890', 86)\n"
     ]
    }
   ],
   "source": [
    "query = \"\"\"\n",
    "SELECT \n",
    "    C.FullName, \n",
    "    C.ContactNumber, \n",
    "    O.TotalCost\n",
    "FROM \n",
    "    Customers AS C\n",
    "JOIN \n",
    "    Orders AS O\n",
    "ON \n",
    "    C.CustomerID = O.CustomerID\n",
    "WHERE \n",
    "    O.TotalCost > 60;\n",
    "\"\"\"\n",
    "\n",
    "# Execute query\n",
    "cursor.execute(query)\n",
    "\n",
    "# Fetch results\n",
    "results = cursor.fetchall()\n",
    "\n",
    "# Display results\n",
    "for row in results:\n",
    "    print(row)\n"
   ]
  },
  {
   "cell_type": "code",
   "execution_count": 34,
   "id": "ddb99687-6856-48cb-91a0-916b7ffccfec",
   "metadata": {},
   "outputs": [
    {
     "name": "stdout",
     "output_type": "stream",
     "text": [
      "The cursor is closed.\n",
      "MySQL connection is closed.\n"
     ]
    }
   ],
   "source": [
    "# Let's close the cursor and the connection\n",
    "if connection.is_connected():\n",
    "    cursor.close()\n",
    "    print(\"The cursor is closed.\")\n",
    "    connection.close()\n",
    "    print(\"MySQL connection is closed.\")\n",
    "else:\n",
    "    print(\"Connection is already closed\")"
   ]
  },
  {
   "cell_type": "code",
   "execution_count": null,
   "id": "0b76c5c8-755a-4613-8660-7997abc85dd6",
   "metadata": {},
   "outputs": [],
   "source": []
  }
 ],
 "metadata": {
  "kernelspec": {
   "display_name": "Python 3 (ipykernel)",
   "language": "python",
   "name": "python3"
  },
  "language_info": {
   "codemirror_mode": {
    "name": "ipython",
    "version": 3
   },
   "file_extension": ".py",
   "mimetype": "text/x-python",
   "name": "python",
   "nbconvert_exporter": "python",
   "pygments_lexer": "ipython3",
   "version": "3.13.1"
  }
 },
 "nbformat": 4,
 "nbformat_minor": 5
}
